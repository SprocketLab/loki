{
 "cells": [
  {
   "cell_type": "code",
   "execution_count": 1,
   "metadata": {},
   "outputs": [],
   "source": [
    "import numpy as np\n",
    "import networkx as nx\n",
    "import matplotlib.pyplot as plt\n",
    "import torch\n",
    "import torch.nn as nn\n",
    "import torch.nn.functional as F\n",
    "\n",
    "from sklearn.manifold import MDS\n",
    "from scipy.spatial.distance import cdist\n",
    "from numpy import typing as npt"
   ]
  },
  {
   "attachments": {},
   "cell_type": "markdown",
   "metadata": {},
   "source": [
    "# Our goal is to fine-tune the prediction probabilities sent into Loki. \n",
    "# We will explore different ways to backpropagate through the locus of the Fréchet mean. "
   ]
  },
  {
   "cell_type": "code",
   "execution_count": 2,
   "metadata": {},
   "outputs": [],
   "source": [
    "# Create random simplex vector of dim K\n",
    "# Create random tree graph with K nodes (or leaves?)\n",
    "\n",
    "# BASELINE SANITY CHECK -- get gradients of the simplex vector from \n",
    "# cross entropy loss with some random label \n",
    "# \n",
    "# OUR METHOD -- get gradients of the simplex vector from our method"
   ]
  },
  {
   "cell_type": "code",
   "execution_count": 3,
   "metadata": {},
   "outputs": [],
   "source": [
    "#### Utility functions... \n",
    "\n",
    "def generate_batch(k:int=100, bs:int=1, soft:bool=False) -> torch.FloatTensor:\n",
    "    ''' \n",
    "    k: synthetic observed label space dimension \n",
    "    bs: synthetic batch size\n",
    "    \n",
    "    returns unnormalized synthetic logits\n",
    "\n",
    "    Generate a synthetic batch of softmax outputs\n",
    "    NOTE we want to ultimately obtain gradients for these\n",
    "    '''\n",
    "    preds = torch.randn(bs, k, requires_grad=True)#.softmax(dim=1)\n",
    "    if soft:\n",
    "        targets = torch.randn(bs, k).softmax(dim=1)\n",
    "    else:\n",
    "        targets = torch.empty(bs, dtype=torch.long).random_(k)\n",
    "    return preds, targets\n"
   ]
  },
  {
   "attachments": {},
   "cell_type": "markdown",
   "metadata": {},
   "source": [
    "# Baseline (gradient sanity check)"
   ]
  },
  {
   "cell_type": "code",
   "execution_count": 4,
   "metadata": {},
   "outputs": [
    {
     "name": "stdout",
     "output_type": "stream",
     "text": [
      "Loss: 2.7404725551605225\n",
      "Gradient of logits: \n",
      "tensor([[ 1.9224e-05,  6.7176e-04,  3.0347e-05,  ...,  5.0783e-05,\n",
      "          3.2975e-05,  3.6367e-06],\n",
      "        [ 1.8773e-04,  5.4567e-05,  6.7605e-05,  ..., -9.3582e-04,\n",
      "          3.4379e-05,  1.9915e-04],\n",
      "        [ 1.2522e-04,  4.8774e-05,  4.3607e-05,  ...,  4.4643e-05,\n",
      "         -5.3026e-04,  3.4537e-05],\n",
      "        ...,\n",
      "        [ 2.3040e-04,  1.1506e-04,  2.2619e-05,  ...,  9.5830e-05,\n",
      "          2.8217e-05,  1.2264e-04],\n",
      "        [ 1.3104e-04,  1.3216e-04,  2.0377e-05,  ...,  7.5179e-05,\n",
      "         -8.8917e-04,  7.8006e-05],\n",
      "        [ 3.4768e-05, -9.4152e-04,  8.7884e-05,  ...,  7.0787e-05,\n",
      "          2.2634e-05,  7.2271e-05]])\n"
     ]
    }
   ],
   "source": [
    "k = 10\n",
    "bs = 1024\n",
    "\n",
    "loss = nn.CrossEntropyLoss()\n",
    "preds, targets = generate_batch(k=k, bs=bs)\n",
    "loss = loss(preds, targets)\n",
    "loss.backward()\n",
    "\n",
    "print(f\"Loss: {loss}\")\n",
    "print(f\"Gradient of logits: \\n{preds.grad}\")\n",
    "\n",
    "preds.grad = None # clear the gradients"
   ]
  },
  {
   "attachments": {},
   "cell_type": "markdown",
   "metadata": {},
   "source": [
    "Okay cool, so we want something like this where we have logit gradients, but where we're fine-tuning with something that looks more like the Loki prediction rule..."
   ]
  },
  {
   "attachments": {},
   "cell_type": "markdown",
   "metadata": {},
   "source": [
    "# Idea 1: fine-tune using class-wise probabilities from Loki\n",
    "\n",
    "Assume we can get the probability vectors that correspond to a certain class under loki (which might be wildly non-unique), then fine tune using this.\n",
    "Trivially, we have gradients in this case because it's just soft-target training. "
   ]
  },
  {
   "cell_type": "code",
   "execution_count": 5,
   "metadata": {},
   "outputs": [],
   "source": [
    "# k = 10\n",
    "# bs = 4\n",
    "\n",
    "# loss = nn.CrossEntropyLoss()\n",
    "# preds, targets = generate_batch(k=k, bs=bs, soft=True)\n",
    "# output = loss(preds, targets)\n",
    "# output.backward()\n",
    "\n",
    "# print(f\"Loss: {output}\")\n",
    "# print(f\"Gradient of logits: \\n{preds.grad}\")\n",
    "\n",
    "# NOTE okay rip, I guess this version of pytorch doesn't support this even though it's in their documentation. Moving on because this idea probably wasn't going to work anyway, due to potentially many distict regions of simplex that correspond to the same classes. Consider an internal node in a tree and all possible paths that pass through that node. "
   ]
  },
  {
   "attachments": {},
   "cell_type": "markdown",
   "metadata": {},
   "source": [
    "# Idea 2: crude Euclidean approximation using MDS"
   ]
  },
  {
   "cell_type": "code",
   "execution_count": 6,
   "metadata": {},
   "outputs": [
    {
     "data": {
      "image/png": "[encoded data removed]",
      "text/plain": [
       "<Figure size 432x288 with 1 Axes>"
      ]
     },
     "metadata": {},
     "output_type": "display_data"
    }
   ],
   "source": [
    "T = nx.random_tree(n=k, seed=0)\n",
    "nx.draw(T, with_labels=True)\n",
    "plt.title(\"Random tree metric space\")\n",
    "plt.show()"
   ]
  },
  {
   "attachments": {},
   "cell_type": "markdown",
   "metadata": {},
   "source": [
    "Run MDS"
   ]
  },
  {
   "cell_type": "code",
   "execution_count": 7,
   "metadata": {},
   "outputs": [
    {
     "data": {
      "image/png": "[encoded data removed]",
      "text/plain": [
       "<Figure size 288x288 with 1 Axes>"
      ]
     },
     "metadata": {
      "needs_background": "light"
     },
     "output_type": "display_data"
    },
    {
     "data": {
      "image/png": "[encoded data removed]",
      "text/plain": [
       "<Figure size 288x288 with 1 Axes>"
      ]
     },
     "metadata": {
      "needs_background": "light"
     },
     "output_type": "display_data"
    },
    {
     "name": "stdout",
     "output_type": "stream",
     "text": [
      "Embedding reconstruction error: 0.1220\n"
     ]
    }
   ],
   "source": [
    "distances = nx.floyd_warshall_numpy(T)\n",
    "\n",
    "plt.matshow(distances)\n",
    "plt.title(\"Original distances\")\n",
    "plt.show()\n",
    "\n",
    "embedding_dim = 4\n",
    "embedder = MDS(n_components=embedding_dim, dissimilarity='precomputed')\n",
    "y_emb = embedder.fit_transform(distances)\n",
    "\n",
    "reconstructed_distances = cdist(y_emb, y_emb)\n",
    "plt.matshow(reconstructed_distances)\n",
    "plt.title(\"Reconstructed distances\")\n",
    "plt.show()\n",
    "\n",
    "# MAE of reconstructed distances. Not terrible, not amazing. \n",
    "emb_rec_err = np.mean(np.abs(reconstructed_distances - distances))\n",
    "print(f\"Embedding reconstruction error: {emb_rec_err:.4f}\")"
   ]
  },
  {
   "attachments": {},
   "cell_type": "markdown",
   "metadata": {},
   "source": [
    "Recall that we want to set up the fine tuning problem so that we can try to reconstruct held-out clases that are in the locus of the held-in classes... \n",
    "\n",
    "Let's just try to reconstruct the top three nodes with the highest degree in our random tree for now. We know that at leas the top node is in the locus of the rest of the tree, for nontrivial trees. "
   ]
  },
  {
   "cell_type": "code",
   "execution_count": 8,
   "metadata": {},
   "outputs": [],
   "source": [
    "top_k = 3\n",
    "assert(top_k <= k)\n",
    "\n",
    "sortlist = sorted(T.degree, key=lambda x: x[1], reverse=True)\n",
    "in_locus_labels = [sortlist[i][0] for i in range(top_k)]"
   ]
  },
  {
   "attachments": {},
   "cell_type": "markdown",
   "metadata": {},
   "source": [
    "Filter our dataset in the correct way so that we can create our in-locus fine tuning problem"
   ]
  },
  {
   "cell_type": "code",
   "execution_count": 9,
   "metadata": {},
   "outputs": [],
   "source": [
    "# Generate fine tuning dataset by filtering: \n",
    "# axis 0 of X,Y by in_locus_labels and\n",
    "# axis 1 of X the complement of in_locus_labels\n",
    "# NOTE this will be reused for most of our methods\n",
    "\n",
    "preds, targets = generate_batch(k=k, bs=bs)\n",
    "\n",
    "ft_preds = []\n",
    "ft_targets = []\n",
    "locus_boundary = np.sort(list(set(np.arange(k)) - set(in_locus_labels)))\n",
    "\n",
    "for i in range(bs):\n",
    "    if targets[i] in in_locus_labels:\n",
    "        ft_preds.append(preds[i])\n",
    "        ft_targets.append(targets[i])\n",
    "\n",
    "ft_preds = torch.stack(ft_preds)[:, locus_boundary]\n",
    "ft_targets = torch.stack(ft_targets)"
   ]
  },
  {
   "cell_type": "code",
   "execution_count": 10,
   "metadata": {},
   "outputs": [
    {
     "name": "stdout",
     "output_type": "stream",
     "text": [
      "Loss: 2.886120557785034\n",
      "Gradient of logits: \n",
      "tensor([[ 0.0000, -0.0011, -0.0010,  ...,  0.0003,  0.0033, -0.0029],\n",
      "        [ 0.0000,  0.0000,  0.0000,  ...,  0.0000,  0.0000,  0.0000],\n",
      "        [ 0.0000,  0.0000,  0.0000,  ...,  0.0000,  0.0000,  0.0000],\n",
      "        ...,\n",
      "        [ 0.0000,  0.0000,  0.0000,  ...,  0.0000,  0.0000,  0.0000],\n",
      "        [ 0.0000,  0.0000,  0.0000,  ...,  0.0000,  0.0000,  0.0000],\n",
      "        [ 0.0000,  0.0000,  0.0000,  ...,  0.0000,  0.0000,  0.0000]])\n"
     ]
    }
   ],
   "source": [
    "def euclidean_relaxed_objective_with_logits(\n",
    "        input: torch.FloatTensor, \n",
    "        target: torch.LongTensor, \n",
    "        locus_bd: torch.LongTensor, \n",
    "        embedding: torch.LongTensor) -> torch.FloatTensor:\n",
    "    '''\n",
    "    preds: prediction logits\n",
    "    targets: indices of the targets\n",
    "    locus_boundary: the classes that we use to reconstruct the targets\n",
    "    embedding: naïve MDS embedding of the metric space\n",
    "\n",
    "    returns the loss. \n",
    "    '''\n",
    "    rec = input.softmax(dim=1) @ y_emb[locus_bd]\n",
    "    diff = y_emb[target] - rec\n",
    "    rec_dist = torch.linalg.norm(diff, dim=1) ** 2\n",
    "    loss = torch.mean(rec_dist)\n",
    "    return loss\n",
    "\n",
    "\n",
    "y_emb = torch.Tensor(y_emb)\n",
    "locus_bd = torch.LongTensor(locus_boundary.astype(np.int64))\n",
    "loss = euclidean_relaxed_objective_with_logits(\n",
    "    ft_preds, ft_targets, locus_bd, y_emb)\n",
    "loss.backward()\n",
    "\n",
    "print(f\"Loss: {loss}\")\n",
    "print(f\"Gradient of logits: \\n{preds.grad}\")\n",
    "\n",
    "preds.grad = None # clear the gradients\n",
    "ft_preds.grad = None"
   ]
  },
  {
   "attachments": {},
   "cell_type": "markdown",
   "metadata": {},
   "source": [
    "We can also implement a pseudo-Euclidean version of this, but in the interest of time, let's skip it and go straight to the polytope projection approach. "
   ]
  },
  {
   "attachments": {},
   "cell_type": "markdown",
   "metadata": {},
   "source": [
    "# Idea 3: polytope projection using SPIGOT"
   ]
  },
  {
   "cell_type": "code",
   "execution_count": 11,
   "metadata": {},
   "outputs": [
    {
     "name": "stdout",
     "output_type": "stream",
     "text": [
      "Loss: 8.002544403076172\n",
      "Gradient of logits: \n",
      "tensor([[ 0.0000,  0.0000,  0.0000,  ..., -8.7891,  0.0000,  0.0000],\n",
      "        [ 0.0000,  0.0000, -8.7891,  ...,  0.0000,  0.0000,  0.0000],\n",
      "        [ 0.0000,  0.0000,  0.0000,  ...,  0.0000,  0.0000,  0.0000],\n",
      "        ...,\n",
      "        [ 0.0000,  0.0000,  0.0000,  ...,  0.0000,  0.0000, -8.7891],\n",
      "        [ 0.0000, -8.7891,  0.0000,  ...,  0.0000,  0.0000,  0.0000],\n",
      "        [ 0.0000,  0.0000,  0.0000,  ...,  0.0000,  0.0000,  0.0000]])\n",
      "torch.Size([1024, 10])\n"
     ]
    }
   ],
   "source": [
    "# Since SPIGOT will output hard predictions, we must smooth the predictions\n",
    "# in order for the cross entropy loss to be well-defined.  \n",
    "def smooth_hard_preds(preds, k, eps=0.1):\n",
    "    bs = preds.shape[0]\n",
    "    rest = (1 / (k - 1)) * eps\n",
    "    p_rest = torch.ones((bs, k)) * rest\n",
    "    onehot = torch.eye(k)[preds]\n",
    "    onehot_scaled = onehot * ((1.0 - eps) - (1 / (k - 1)) * eps)\n",
    "    p_smooth = p_rest + onehot_scaled\n",
    "    assert((p_smooth.argmax(dim=1) == preds).all())\n",
    "    # Important that p_smooth requires grad so that it can be used in SPIGOT\n",
    "    p_smooth.requires_grad = True\n",
    "    return p_smooth\n",
    "\n",
    "\n",
    "loss = nn.NLLLoss() # Use NLL since we don't use logits\n",
    "with torch.no_grad():\n",
    "    preds_, targets = generate_batch(k=k, bs=bs)\n",
    "    preds = smooth_hard_preds(preds_.argmax(dim=1), k=k, eps=0.001)\n",
    "\n",
    "# NLL loss takes logsoftmax input\n",
    "loss = loss(torch.log(preds), targets)\n",
    "loss.backward()\n",
    "\n",
    "print(f\"Loss: {loss}\")\n",
    "print(f\"Gradient of logits: \\n{preds.grad}\")\n",
    "\n",
    "print(preds.grad.shape)\n",
    "\n",
    "preds.grad = None # clear the gradients"
   ]
  },
  {
   "cell_type": "code",
   "execution_count": null,
   "metadata": {},
   "outputs": [],
   "source": []
  },
  {
   "cell_type": "code",
   "execution_count": 12,
   "metadata": {},
   "outputs": [],
   "source": [
    "class LokiStraightThroughEstimator(torch.autograd.Function):\n",
    "    @staticmethod\n",
    "    def forward(ctx, probs: torch.FloatTensor, dists: torch.FloatTensor):\n",
    "        k = dists.shape[0]\n",
    "        onehot = torch.eye(k)\n",
    "        \n",
    "        # Compute S(x) = vector of negative Fréchet variances\n",
    "        s = -probs @ (dists ** 2)\n",
    "\n",
    "        # Intermediate decoding step\n",
    "        with torch.no_grad():\n",
    "            z_hat_int = s.argmax(dim=1)\n",
    "            z_hat_onehot = onehot[z_hat_int]\n",
    "\n",
    "        # Important to ensure that z_hat_smoothed gets gradients from the loss\n",
    "        z_hat_onehot.requires_grad = True\n",
    "        return z_hat_onehot\n",
    "    \n",
    "    @staticmethod\n",
    "    def backward(ctx, grad_output: torch.FloatTensor):\n",
    "        return grad_output, None, None\n",
    "    \n",
    "def loki_ste_predict(probs, dists):\n",
    "    loki = LokiStraightThroughEstimator()\n",
    "    return loki.apply(probs, dists)\n",
    "        "
   ]
  },
  {
   "cell_type": "code",
   "execution_count": null,
   "metadata": {},
   "outputs": [],
   "source": []
  },
  {
   "cell_type": "code",
   "execution_count": 13,
   "metadata": {},
   "outputs": [],
   "source": [
    "def proj_simplex(y):\n",
    "    ''' From http://www.mcduplessis.com/index.php/2016/08/22/fast-projection-onto-a-simplex-python/\n",
    "    '''\n",
    "    d = len(y)\n",
    "    a = torch.ones(d)\n",
    "    idx = torch.argsort(y)\n",
    "    evalpL = lambda k: torch.sum((y[idx[k:]] - y[idx[k]])) - 1\n",
    "\n",
    "    def bisectsearch():\n",
    "        idxL, idxH = 0, d-1\n",
    "        L = evalpL(idxL)\n",
    "        H = evalpL(idxH)\n",
    "        if L < 0:\n",
    "            return idxL\n",
    "        while (idxH - idxL) > 1:\n",
    "            iMid = int((idxL + idxH) / 2)\n",
    "            M = evalpL(iMid)\n",
    "            if M > 0:\n",
    "                idxL, L = iMid, M\n",
    "            else:\n",
    "                idxH, H = iMid, M\n",
    "        return idxH\n",
    "        \n",
    "    k = bisectsearch()\n",
    "    lam = (torch.sum(y[idx[k:]]) - 1) / (d - k)\n",
    "    x = np.maximum(0, y - lam)\n",
    "    return x\n",
    "\n",
    "class LokiPolytopeEstimator(torch.autograd.Function):\n",
    "    @staticmethod\n",
    "    def forward(ctx, probs: torch.FloatTensor,\n",
    "                dists: torch.FloatTensor, eta: float):\n",
    "        k = dists.shape[0]\n",
    "        eta = torch.tensor(eta)\n",
    "        onehot = torch.eye(k)\n",
    "        \n",
    "        # Compute S(x) = vector of negative Fréchet variances\n",
    "        s = -probs @ (dists ** 2)\n",
    "\n",
    "        # Intermediate decoding step\n",
    "        with torch.no_grad():\n",
    "            z_hat_int = s.argmax(dim=1)\n",
    "            z_hat_onehot = onehot[z_hat_int]\n",
    "        ctx.save_for_backward(z_hat_onehot, eta)\n",
    "\n",
    "        # Important to ensure that z_hat_smoothed gets gradients from the loss\n",
    "        z_hat_onehot.requires_grad = True\n",
    "        return z_hat_onehot\n",
    "    \n",
    "    @staticmethod\n",
    "    def backward(ctx, grad_output: torch.FloatTensor):\n",
    "        z_hat_onehot, eta, = ctx.saved_tensors\n",
    "        z_unproj = z_hat_onehot - (eta * grad_output)\n",
    "\n",
    "        # TODO project z_unproj onto the unit simplex\n",
    "        # NOTE that the unit simplex is just the relaxed convex polytope of\n",
    "        # the one-hot vectors. \n",
    "        # NOTE SOFTMAX IS A QUICK-AND-DIRTY NON-OPTIMAL PROJECTION...\n",
    "        #z_proj = z_unproj.softmax(dim=1)\n",
    "        # NOTE this is the actual projection but it's slower because it's\n",
    "        # not batched! \n",
    "        b = z_unproj.shape[0]\n",
    "        z_proj = torch.stack([proj_simplex(z_unproj[i]) for i in range(b)])\n",
    "        \n",
    "        delta_s = z_hat_onehot - z_proj\n",
    "        return delta_s, None, None, None\n",
    "    \n",
    "def loki_polytope_predict(probs, dists, eta=0.01):\n",
    "    loki = LokiPolytopeEstimator()\n",
    "    return loki.apply(probs, dists, eta)\n",
    "        "
   ]
  },
  {
   "cell_type": "code",
   "execution_count": 14,
   "metadata": {},
   "outputs": [
    {
     "name": "stdout",
     "output_type": "stream",
     "text": [
      "Loss: 8.269262313842773\n",
      "Gradient of logits: \n",
      "tensor([[-2.7558e-04, -4.6034e-03, -4.4226e-04,  ..., -1.5093e-03,\n",
      "         -3.7005e-04, -2.5563e-03],\n",
      "        [-3.4898e-04, -1.2809e-04, -7.6112e-05,  ..., -1.4491e-04,\n",
      "         -9.9110e-04, -5.9959e-05],\n",
      "        [-1.5978e-04, -3.6445e-03, -3.9803e-04,  ..., -4.3914e-03,\n",
      "         -3.6901e-04, -1.4279e-05],\n",
      "        ...,\n",
      "        [-6.1420e-04, -7.0558e-04, -1.8778e-04,  ..., -1.2134e-03,\n",
      "         -1.9822e-04, -6.7477e-04],\n",
      "        [ 6.6623e-04,  7.9820e-04,  2.6809e-03,  ...,  2.5414e-04,\n",
      "          2.5603e-04,  8.3534e-04],\n",
      "        [-3.4556e-05, -1.6191e-05, -1.5786e-05,  ..., -2.6472e-05,\n",
      "         -9.9330e-06, -3.1045e-03]])\n"
     ]
    }
   ],
   "source": [
    "loss = nn.NLLLoss()\n",
    "\n",
    "logits, targets = generate_batch(k=k, bs=bs)\n",
    "probs = logits.softmax(dim=1)\n",
    "preds = loki_polytope_predict(probs, torch.Tensor(distances))\n",
    "\n",
    "# Apply \"label smoothing\" to the hard predictions\n",
    "# so that downstream loss remains well-defined\n",
    "eps=0.001\n",
    "smooth_onehot = torch.ones(k, k) * (1 / (k - 1)) * eps\n",
    "smooth_onehot += torch.eye(k) * ((1 - eps) - (1 / (k - 1)) * eps)\n",
    "preds_smoothed = preds @ smooth_onehot\n",
    "\n",
    "# NLL loss takes logsoftmax input\n",
    "loss = loss(torch.log(preds_smoothed), targets)\n",
    "loss.backward()\n",
    "\n",
    "print(f\"Loss: {loss}\")\n",
    "print(f\"Gradient of logits: \\n{logits.grad}\")"
   ]
  },
  {
   "cell_type": "code",
   "execution_count": null,
   "metadata": {},
   "outputs": [],
   "source": []
  },
  {
   "cell_type": "code",
   "execution_count": null,
   "metadata": {},
   "outputs": [],
   "source": []
  },
  {
   "cell_type": "code",
   "execution_count": 92,
   "metadata": {},
   "outputs": [
    {
     "name": "stdout",
     "output_type": "stream",
     "text": [
      "5 [[0.2 0.2 0.2 0.2 0.2]\n",
      " [0.2 0.2 0.2 0.2 0.2]] [[0.2 0.4 0.6 0.8 1. ]\n",
      " [0.2 0.4 0.6 0.8 1. ]]\n",
      "[[0.2 0.4 0.6 0.8 1. ]\n",
      " [0.2 0.4 0.6 0.8 1. ]]\n",
      "[1 4]\n",
      "[[-0.3  0. ]\n",
      " [-0.3  0. ]]\n",
      "[1 4]\n",
      "[[0.2 0.4 0.6 0.8 1. ]\n",
      " [0.2 0.4 0.6 0.8 1. ]]\n"
     ]
    },
    {
     "data": {
      "text/plain": [
       "array([[0.5, 0.5, 0.5, 0.5, 0.5],\n",
       "       [0.2, 0.2, 0.2, 0.2, 0.2]])"
      ]
     },
     "execution_count": 92,
     "metadata": {},
     "output_type": "execute_result"
    }
   ],
   "source": [
    "def euclidean_proj_simplex(v, s=1):\n",
    "    \"\"\" Compute the Euclidean projection on a positive simplex\n",
    "    Solves the optimisation problem (using the algorithm from [1]):\n",
    "        min_w 0.5 * || w - v ||_2^2 , s.t. \\sum_i w_i = s, w_i >= 0 \n",
    "    Parameters\n",
    "    ----------\n",
    "    v: (n,) numpy array,\n",
    "       n-dimensional vector to project\n",
    "    s: int, optional, default: 1,\n",
    "       radius of the simplex\n",
    "    Returns\n",
    "    -------\n",
    "    w: (n,) numpy array,\n",
    "       Euclidean projection of v on the simplex\n",
    "    Notes\n",
    "    -----\n",
    "    The complexity of this algorithm is in O(n log(n)) as it involves sorting v.\n",
    "    Better alternatives exist for high-dimensional sparse vectors (cf. [1])\n",
    "    However, this implementation still easily scales to millions of dimensions.\n",
    "    References\n",
    "    ----------\n",
    "    [1] Efficient Projections onto the .1-Ball for Learning in High Dimensions\n",
    "        John Duchi, Shai Shalev-Shwartz, Yoram Singer, and Tushar Chandra.\n",
    "        International Conference on Machine Learning (ICML 2008)\n",
    "        http://www.cs.berkeley.edu/~jduchi/projects/DuchiSiShCh08.pdf\n",
    "    \"\"\"\n",
    "    assert s > 0, \"Radius s must be strictly positive (%d <= 0)\" % s\n",
    "    bs, n = v.shape  # will raise ValueError if v is not 1-D\n",
    "    # get the array of cumulative sums of a sorted (decreasing) copy of v\n",
    "    u = np.sort(v, axis=-1)[::-1]\n",
    "    cssv = np.cumsum(u, axis=-1)\n",
    "\n",
    "\n",
    "    print(n, u, cssv)\n",
    "\n",
    "    print(u * np.arange(1, n+1))\n",
    "    print( np.stack(np.nonzero(u * np.arange(1, n+1) > (cssv - s)))[:, -1] )\n",
    "\n",
    "    # get the number of > 0 components of the optimal solution\n",
    "    rho = np.stack(np.nonzero(u * np.arange(1, n+1) > (cssv - s)))[:, -1]\n",
    "\n",
    "    print((cssv[:, rho] - s) / (rho + 1))\n",
    "\n",
    "    # compute the Lagrange multiplier associated to the simplex constraint\n",
    "    theta = (np.diagonal(cssv[:, rho]) - s) / (rho + 1)\n",
    "\n",
    "\n",
    "    print(rho)\n",
    "    print(cssv)\n",
    "    #print(theta)\n",
    "    #print(v)\n",
    "    \n",
    "    # compute the projection by thresholding v using theta\n",
    "    w = (v - theta[:, None]).clip(min=0)\n",
    "    return w\n",
    "\n",
    "v = np.ones((2, 5)) / 5\n",
    "euclidean_proj_simplex(v)"
   ]
  },
  {
   "cell_type": "code",
   "execution_count": 69,
   "metadata": {},
   "outputs": [
    {
     "name": "stdout",
     "output_type": "stream",
     "text": [
      "5 [0.2 0.2 0.2 0.2 0.2] [0.2 0.4 0.6 0.8 1. ]\n",
      "4\n",
      "0.0\n",
      "[0.2 0.2 0.2 0.2 0.2]\n"
     ]
    },
    {
     "data": {
      "text/plain": [
       "array([0.2, 0.2, 0.2, 0.2, 0.2])"
      ]
     },
     "execution_count": 69,
     "metadata": {},
     "output_type": "execute_result"
    }
   ],
   "source": [
    "def euclidean_proj_simplex(v, s=1):\n",
    "    \"\"\" Compute the Euclidean projection on a positive simplex\n",
    "    Solves the optimisation problem (using the algorithm from [1]):\n",
    "        min_w 0.5 * || w - v ||_2^2 , s.t. \\sum_i w_i = s, w_i >= 0 \n",
    "    Parameters\n",
    "    ----------\n",
    "    v: (n,) numpy array,\n",
    "       n-dimensional vector to project\n",
    "    s: int, optional, default: 1,\n",
    "       radius of the simplex\n",
    "    Returns\n",
    "    -------\n",
    "    w: (n,) numpy array,\n",
    "       Euclidean projection of v on the simplex\n",
    "    Notes\n",
    "    -----\n",
    "    The complexity of this algorithm is in O(n log(n)) as it involves sorting v.\n",
    "    Better alternatives exist for high-dimensional sparse vectors (cf. [1])\n",
    "    However, this implementation still easily scales to millions of dimensions.\n",
    "    References\n",
    "    ----------\n",
    "    [1] Efficient Projections onto the .1-Ball for Learning in High Dimensions\n",
    "        John Duchi, Shai Shalev-Shwartz, Yoram Singer, and Tushar Chandra.\n",
    "        International Conference on Machine Learning (ICML 2008)\n",
    "        http://www.cs.berkeley.edu/~jduchi/projects/DuchiSiShCh08.pdf\n",
    "    \"\"\"\n",
    "    assert s > 0, \"Radius s must be strictly positive (%d <= 0)\" % s\n",
    "    n, = v.shape  # will raise ValueError if v is not 1-D\n",
    "    # check if we are already on the simplex\n",
    "    # get the array of cumulative sums of a sorted (decreasing) copy of v\n",
    "    u = np.sort(v)[::-1]\n",
    "    cssv = np.cumsum(u)\n",
    "\n",
    "\n",
    "    print(n, u, cssv)\n",
    "\n",
    "\n",
    "    # get the number of > 0 components of the optimal solution\n",
    "    rho = np.nonzero(u * np.arange(1, n+1) > (cssv - s))[0][-1]\n",
    "    # compute the Lagrange multiplier associated to the simplex constraint\n",
    "    theta = float(cssv[rho] - s) / rho\n",
    "\n",
    "    print(rho)\n",
    "    print(theta)\n",
    "    print(v)\n",
    "\n",
    "    # compute the projection by thresholding v using theta\n",
    "    w = (v - theta).clip(min=0)\n",
    "    return w\n",
    "\n",
    "v = np.ones(5) / 5\n",
    "euclidean_proj_simplex(v)"
   ]
  },
  {
   "cell_type": "code",
   "execution_count": null,
   "metadata": {},
   "outputs": [],
   "source": []
  },
  {
   "cell_type": "code",
   "execution_count": null,
   "metadata": {},
   "outputs": [],
   "source": []
  },
  {
   "cell_type": "code",
   "execution_count": null,
   "metadata": {},
   "outputs": [],
   "source": []
  }
 ],
 "metadata": {
  "kernelspec": {
   "display_name": "base",
   "language": "python",
   "name": "python3"
  },
  "language_info": {
   "codemirror_mode": {
    "name": "ipython",
    "version": 3
   },
   "file_extension": ".py",
   "mimetype": "text/x-python",
   "name": "python",
   "nbconvert_exporter": "python",
   "pygments_lexer": "ipython3",
   "version": "3.8.8"
  },
  "orig_nbformat": 4,
  "vscode": {
   "interpreter": {
    "hash": "d0d00a037b7aa4b8a2be5e93e47a093862d1c78b064fe50e46fc81e25196f4b5"
   }
  }
 },
 "nbformat": 4,
 "nbformat_minor": 2
}
