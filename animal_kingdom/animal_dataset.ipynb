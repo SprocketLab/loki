{
 "cells": [
  {
   "cell_type": "code",
   "execution_count": 1,
   "metadata": {},
   "outputs": [],
   "source": [
    "import pandas as pd\n",
    "from Bio import Phylo\n",
    "import networkx as nx\n",
    "import copy"
   ]
  },
  {
   "cell_type": "code",
   "execution_count": 2,
   "metadata": {},
   "outputs": [],
   "source": [
    "# Using readlines()\n",
    "file = open('./imagenet_mintree.txt', 'r')\n",
    "Lines = file.readlines()\n",
    "edge_list = []\n",
    "\n",
    "# Strips the newline character\n",
    "for line in Lines:\n",
    "    pair = line.lower().strip().split(' ')\n",
    "    if pair:\n",
    "        edge_list.append(pair)\n",
    "G = nx.DiGraph((edge) for edge in edge_list)\n"
   ]
  },
  {
   "cell_type": "code",
   "execution_count": 3,
   "metadata": {},
   "outputs": [],
   "source": [
    "wordnet = dict()\n",
    "wordnet_inverse = dict()\n",
    "# Using readlines()\n",
    "file = open('./words.txt', 'r')\n",
    "Lines = file.readlines()\n",
    "val = 0\n",
    "\n",
    "# Strips the newline character\n",
    "words = []\n",
    "for line in Lines:\n",
    "    line = line.lower().strip().split('\\t')\n",
    "    code = line[0]\n",
    "    names = line[1].split(', ')\n",
    "    if code in G.nodes():\n",
    "        wordnet_inverse[code] = tuple(names)\n",
    "        for n in names:\n",
    "            wordnet[n] = code\n",
    "        words += names\n",
    "    "
   ]
  },
  {
   "cell_type": "code",
   "execution_count": 4,
   "metadata": {},
   "outputs": [
    {
     "data": {
      "image/png": "[encoded data removed]",
      "text/plain": [
       "<Figure size 432x288 with 1 Axes>"
      ]
     },
     "metadata": {},
     "output_type": "display_data"
    }
   ],
   "source": [
    "import networkx as nx\n",
    "import pylab\n",
    "tree = Phylo.read('./placental_mammals.newick.txt','newick')\n",
    "net = Phylo.to_networkx(tree)\n",
    "nx.draw(net)"
   ]
  },
  {
   "cell_type": "code",
   "execution_count": 5,
   "metadata": {},
   "outputs": [],
   "source": [
    "# Using readlines()\n",
    "file = open('./name_convert.txt', 'r')\n",
    "Lines = file.readlines()\n",
    "name_dict = dict()\n",
    "\n",
    "# Strips the newline character\n",
    "for line in Lines:\n",
    "    line = line.lower().strip()\n",
    "    code = line[12:].split(' ')[0]\n",
    "    common_name = line[line.find(\"(\")+1:line.find(\")\")]\n",
    "    name_dict[code] = common_name\n",
    "tree_classes = list(name_dict.values())"
   ]
  },
  {
   "cell_type": "code",
   "execution_count": 6,
   "metadata": {},
   "outputs": [
    {
     "data": {
      "text/plain": [
       "28"
      ]
     },
     "execution_count": 6,
     "metadata": {},
     "output_type": "execute_result"
    }
   ],
   "source": [
    "valid_classes = set(words)&set(tree_classes)\n",
    "len(valid_classes)"
   ]
  },
  {
   "cell_type": "code",
   "execution_count": 7,
   "metadata": {},
   "outputs": [
    {
     "name": "stdout",
     "output_type": "stream",
     "text": [
      "{'armadillo', 'wallaby', 'lizard', 'squirrel', 'chimp', 'dog', 'platypus', 'sloth', 'dolphin', 'finch', 'marmoset', 'elephant', 'gibbon', 'hedgehog', 'fish', 'baboon', 'opossum', 'frog', 'pufferfish', 'pig', 'rabbit', 'horse', 'mouse', 'cat', 'sheep', 'gorilla', 'echidna', 'possum'}\n"
     ]
    }
   ],
   "source": [
    "print(valid_classes)"
   ]
  },
  {
   "cell_type": "code",
   "execution_count": 8,
   "metadata": {},
   "outputs": [
    {
     "name": "stdout",
     "output_type": "stream",
     "text": [
      "['n02454379', 'n01877812', 'n01674464', 'n02355227', 'n02481823', 'n02084071', 'n01873310', 'n02456962', 'n02068974', 'n01529672', 'n02490219', 'n02503517', 'n02483362', 'n02346627', 'n02512053', 'n02486410', 'n01881171', 'n01639765', 'n02655020', 'n02395406', 'n02324045', 'n02374451', 'n03793489', 'n02127808', 'n02411705', 'n02480855', 'n01872401', 'n01881171']\n"
     ]
    }
   ],
   "source": [
    "valid_code = []\n",
    "for vc in valid_classes:\n",
    "    valid_code.append(wordnet[vc])\n",
    "print(valid_code)"
   ]
  },
  {
   "cell_type": "code",
   "execution_count": 9,
   "metadata": {},
   "outputs": [
    {
     "data": {
      "text/plain": [
       "237"
      ]
     },
     "execution_count": 9,
     "metadata": {},
     "output_type": "execute_result"
    }
   ],
   "source": [
    "leaf = {x for x in G.nodes() if G.out_degree(x)==0 and G.in_degree(x)==1}\n",
    "des = set()\n",
    "for node in valid_code:\n",
    "    des = des.union(nx.descendants(G, node))\n",
    "len(des)"
   ]
  },
  {
   "cell_type": "code",
   "execution_count": 10,
   "metadata": {},
   "outputs": [
    {
     "data": {
      "text/plain": [
       "169"
      ]
     },
     "execution_count": 10,
     "metadata": {},
     "output_type": "execute_result"
    }
   ],
   "source": [
    "res = des.intersection(des, leaf)\n",
    "len(res)"
   ]
  },
  {
   "cell_type": "code",
   "execution_count": 11,
   "metadata": {},
   "outputs": [],
   "source": [
    "dic = {}\n",
    "for node in valid_code:\n",
    "    dic[node] = nx.descendants(G, node).intersection(nx.descendants(G, node), leaf)"
   ]
  },
  {
   "cell_type": "code",
   "execution_count": 12,
   "metadata": {},
   "outputs": [],
   "source": [
    "for node in list(net.nodes):\n",
    "    if str(node)[2:].lower() in name_dict:\n",
    "        name = name_dict[str(node)[2:].lower()]\n",
    "        if name in wordnet:\n",
    "            code = wordnet[name]\n",
    "            mapping = {node:code}\n",
    "            net = nx.relabel_nodes(net, mapping)"
   ]
  },
  {
   "cell_type": "code",
   "execution_count": 13,
   "metadata": {},
   "outputs": [],
   "source": [
    "for node in list(net.nodes):\n",
    "    if str(node)[1] == '_':\n",
    "        net.remove_node(node)"
   ]
  },
  {
   "cell_type": "code",
   "execution_count": 14,
   "metadata": {},
   "outputs": [],
   "source": [
    "for node in list(net.nodes):\n",
    "    if str(node) in dic:\n",
    "        for newleave in dic[str(node)]:\n",
    "            net.add_node(newleave)\n",
    "            net.add_edge(node, newleave)"
   ]
  },
  {
   "cell_type": "code",
   "execution_count": 15,
   "metadata": {},
   "outputs": [
    {
     "data": {
      "image/png": "[encoded data removed]",
      "text/plain": [
       "<Figure size 432x288 with 1 Axes>"
      ]
     },
     "metadata": {},
     "output_type": "display_data"
    }
   ],
   "source": [
    "nx.draw(net)"
   ]
  },
  {
   "cell_type": "code",
   "execution_count": 16,
   "metadata": {},
   "outputs": [],
   "source": [
    "index = 0\n",
    "for node in list(net.nodes):\n",
    "    if str(node) == \"Clade\":\n",
    "        newname = \"Clade\" + str(index)\n",
    "        mapping = {node:newname}\n",
    "        net = nx.relabel_nodes(net, mapping)\n",
    "        index +=1"
   ]
  },
  {
   "cell_type": "code",
   "execution_count": 20,
   "metadata": {},
   "outputs": [],
   "source": [
    "leave_nodes = [x for x in net.nodes() if net.degree(x) == 1]\n",
    "for x in leave_nodes:\n",
    "    if str(x)[0] == 'C':\n",
    "        net.remove_node(x)"
   ]
  },
  {
   "cell_type": "code",
   "execution_count": 21,
   "metadata": {},
   "outputs": [
    {
     "name": "stdout",
     "output_type": "stream",
     "text": [
      "139\n"
     ]
    }
   ],
   "source": [
    "print(len([x for x in net.nodes() if net.degree(x) == 1]))"
   ]
  },
  {
   "cell_type": "code",
   "execution_count": 22,
   "metadata": {},
   "outputs": [],
   "source": [
    "nx.write_edgelist(net, './imagenet_animal_kingdom.txt', comments='#', delimiter=' ', data=False)"
   ]
  },
  {
   "cell_type": "code",
   "execution_count": null,
   "metadata": {},
   "outputs": [],
   "source": []
  }
 ],
 "metadata": {
  "kernelspec": {
   "display_name": "base",
   "language": "python",
   "name": "python3"
  },
  "language_info": {
   "codemirror_mode": {
    "name": "ipython",
    "version": 3
   },
   "file_extension": ".py",
   "mimetype": "text/x-python",
   "name": "python",
   "nbconvert_exporter": "python",
   "pygments_lexer": "ipython3",
   "version": "3.9.12"
  },
  "orig_nbformat": 4,
  "vscode": {
   "interpreter": {
    "hash": "fc11aa437154f3d7c8d221f49992b6986d0ab28a14683e752d4fa6e0f7da6da5"
   }
  }
 },
 "nbformat": 4,
 "nbformat_minor": 2
}
