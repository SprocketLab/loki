{
 "cells": [
  {
   "cell_type": "code",
   "execution_count": 153,
   "id": "17dfc1b3-d1c2-41fb-ad5e-eeded3ea3118",
   "metadata": {},
   "outputs": [],
   "source": [
    "import numpy as np\n",
    "import matplotlib.pyplot as plt\n",
    "from tqdm import tqdm\n",
    "from itertools import permutations"
   ]
  },
  {
   "cell_type": "code",
   "execution_count": 170,
   "id": "e79400b9-782a-479f-8e46-a014e2795972",
   "metadata": {},
   "outputs": [],
   "source": [
    "def kendall_tau_dist(values1, values2):\n",
    "    \"\"\"Compute the Kendall tau distance.\"\"\"\n",
    "    n = len(values1)\n",
    "    assert len(values2) == n, \"Both lists have to be of equal length\"\n",
    "    i, j = np.meshgrid(np.arange(n), np.arange(n))\n",
    "    a = np.argsort(values1)\n",
    "    b = np.argsort(values2)\n",
    "    ndisordered = np.logical_or(np.logical_and(a[i] < a[j], b[i] > b[j]), np.logical_and(a[i] > a[j], b[i] < b[j])).sum()\n",
    "    return ndisordered / 2 #/ (n * (n - 1))\n",
    "\n",
    "def fréchet_mean(dist, cands, weights):\n",
    "    assert(len(cands) == len(weights))\n",
    "    mean = [[weights[i] * d[j, cands[i]] for i in range(len(cands))] for j in range(len(dist))]\n",
    "    mean = np.array(mean).sum(axis=1)\n",
    "    argmins = np.where(mean == mean.min())[0]\n",
    "    # TODO figure out what to do in non-unique situations\n",
    "    #if len(argmins) > 1:\n",
    "        #print(f\"[FRÉCHET MEAN] non-unique, {len(argmins)} argminima: {argmins}\")\n",
    "    return argmins[0] # NOTE arbitrarily choosing first argminimum"
   ]
  },
  {
   "cell_type": "code",
   "execution_count": 318,
   "id": "80453875-bba5-4a72-b707-c0db3305cd0e",
   "metadata": {},
   "outputs": [
    {
     "name": "stderr",
     "output_type": "stream",
     "text": [
      "100%|██████████| 6/6 [00:00<00:00, 2241.35it/s]"
     ]
    },
    {
     "name": "stdout",
     "output_type": "stream",
     "text": [
      "space_size: 6\n"
     ]
    },
    {
     "name": "stderr",
     "output_type": "stream",
     "text": [
      "\n"
     ]
    },
    {
     "data": {
      "text/plain": [
       "<matplotlib.image.AxesImage at 0x7fb192c5b280>"
      ]
     },
     "execution_count": 318,
     "metadata": {},
     "output_type": "execute_result"
    },
    {
     "data": {
      "image/png": "[encoded data removed]",
      "text/plain": [
       "<Figure size 288x288 with 1 Axes>"
      ]
     },
     "metadata": {
      "needs_background": "light"
     },
     "output_type": "display_data"
    }
   ],
   "source": [
    "n = 3\n",
    "space_size = np.math.factorial(n)\n",
    "space = list(permutations(np.arange(n)))\n",
    "assert(space_size == len(space))\n",
    "print(f\"space_size: {space_size}\")\n",
    "\n",
    "d = np.zeros((space_size, space_size))\n",
    "for i in tqdm(range(space_size)):\n",
    "    for j in range(i+1, space_size):\n",
    "        d[i, j] = kendall_tau_dist(space[i], space[j])\n",
    "        d[j, i] = d[i, j]\n",
    "\n",
    "plt.matshow(d)"
   ]
  },
  {
   "cell_type": "code",
   "execution_count": 319,
   "id": "2a0af62a-074a-4371-b23f-39182f75c287",
   "metadata": {},
   "outputs": [
    {
     "data": {
      "text/plain": [
       "0"
      ]
     },
     "execution_count": 319,
     "metadata": {},
     "output_type": "execute_result"
    }
   ],
   "source": [
    "cands = [0, 1]\n",
    "fréchet_mean(d, cands, np.ones_like(cands))"
   ]
  },
  {
   "cell_type": "code",
   "execution_count": 320,
   "id": "d15fa329-1638-4428-9549-db94a2312b38",
   "metadata": {},
   "outputs": [],
   "source": [
    "#locusmax = 0\n",
    "#for i in range(space_size):\n",
    "#    for j in range(space_size):\n",
    "#        for k in range(space_size):\n",
    "#            cands = [i, j, k]\n",
    "#            eps = 0.1\n",
    "#            locus = set()\n",
    "#            for w1 in np.arange(0, 1+eps, eps):\n",
    "#                for w2 in np.arange(0, 1+eps, eps):\n",
    "#                    for w3 in np.arange(0, 1+eps, eps):\n",
    "#                        #print(f\"{i},{j}: {w1}, {w2}\")\n",
    "#                        f = fréchet_mean(d, cands, [w1, w2, w3])\n",
    "#                        locus.add(f)\n",
    "#                        #print(locus)\n",
    "#                        #print()\n",
    "#            if len(locus) >= locusmax:\n",
    "#                locusmax = len(locus)\n",
    "#                print(locus)\n",
    "#                print(cands)"
   ]
  },
  {
   "cell_type": "code",
   "execution_count": 321,
   "id": "ffa117d8-9a47-497a-a2d5-5fd00bbe02e1",
   "metadata": {},
   "outputs": [],
   "source": [
    "from scipy.interpolate import griddata\n",
    "from scipy.stats import dirichlet\n",
    "\n",
    "# NOTE possibly just need any n+1 permutations?\n",
    "# use this structure and prove it?"
   ]
  },
  {
   "cell_type": "code",
   "execution_count": 322,
   "id": "51071bb8-aa79-4105-9fb6-a883f87729a4",
   "metadata": {},
   "outputs": [],
   "source": [
    "import networkx as nx"
   ]
  },
  {
   "cell_type": "code",
   "execution_count": 323,
   "id": "4d0d0fd0-7489-443c-bdc4-f240af0963b3",
   "metadata": {},
   "outputs": [
    {
     "data": {
      "text/plain": [
       "[(0, 1, 2), (0, 2, 1), (1, 0, 2), (1, 2, 0), (2, 0, 1), (2, 1, 0)]"
      ]
     },
     "execution_count": 323,
     "metadata": {},
     "output_type": "execute_result"
    }
   ],
   "source": [
    "space\n",
    "\n",
    "# For each node\n",
    "## create node \n",
    "## Add edges if not exist for all degree 1 neighbors\n",
    "\n",
    "\n"
   ]
  },
  {
   "cell_type": "code",
   "execution_count": 324,
   "id": "55faf746-74bb-4083-85eb-c403353875c1",
   "metadata": {},
   "outputs": [
    {
     "data": {
      "image/png": "[encoded data removed]",
      "text/plain": [
       "<Figure size 432x288 with 1 Axes>"
      ]
     },
     "metadata": {},
     "output_type": "display_data"
    }
   ],
   "source": [
    "g = nx.from_numpy_matrix(d == np.ones_like(d))\n",
    "nx.draw(g, with_labels=True)"
   ]
  },
  {
   "cell_type": "code",
   "execution_count": 325,
   "id": "03410c66-787d-4eff-85ac-05ca0872fa2c",
   "metadata": {},
   "outputs": [
    {
     "data": {
      "text/plain": [
       "array([[0., 1., 1., 2., 2., 3.],\n",
       "       [1., 0., 2., 3., 1., 2.],\n",
       "       [1., 2., 0., 1., 3., 2.],\n",
       "       [2., 3., 1., 0., 2., 1.],\n",
       "       [2., 1., 3., 2., 0., 1.],\n",
       "       [3., 2., 2., 1., 1., 0.]])"
      ]
     },
     "execution_count": 325,
     "metadata": {},
     "output_type": "execute_result"
    }
   ],
   "source": [
    "d"
   ]
  },
  {
   "cell_type": "code",
   "execution_count": null,
   "id": "41730947-e901-4614-b759-b95bc03ee4c6",
   "metadata": {},
   "outputs": [],
   "source": []
  },
  {
   "cell_type": "code",
   "execution_count": 326,
   "id": "27905e11-187d-4786-b130-665be6d4581c",
   "metadata": {},
   "outputs": [],
   "source": [
    "dprime = np.zeros_like(d)\n",
    "for item in nx.all_pairs_shortest_path_length(g):\n",
    "    for k, v in item[1].items():\n",
    "        dprime[item[0], k] = v\n",
    "    \n",
    "assert((d == dprime).all())"
   ]
  },
  {
   "cell_type": "code",
   "execution_count": 315,
   "id": "6eec1110-22cc-4c21-a57d-e1e71280bb6b",
   "metadata": {},
   "outputs": [
    {
     "name": "stdout",
     "output_type": "stream",
     "text": [
      "0 3\n",
      "1 3\n",
      "2 3\n",
      "3 3\n",
      "4 3\n",
      "5 3\n",
      "6 3\n",
      "7 3\n",
      "8 3\n",
      "9 3\n",
      "10 3\n",
      "11 3\n",
      "12 3\n",
      "13 3\n",
      "14 3\n",
      "15 3\n",
      "16 3\n",
      "17 3\n",
      "18 3\n",
      "19 3\n",
      "20 3\n",
      "21 3\n",
      "22 3\n",
      "23 3\n"
     ]
    }
   ],
   "source": [
    "for k, v in g.degree:\n",
    "    print(k, v)\n",
    "    \n",
    "# Kendall-Tau space with length n rankings forms an (n-1)-regular graph"
   ]
  },
  {
   "cell_type": "code",
   "execution_count": 317,
   "id": "00adb632-6f0b-4728-a363-59a42fa8d5cb",
   "metadata": {},
   "outputs": [],
   "source": [
    "# Define trivial and non-trivial ???\n",
    "# Just prove this for geodetic graphs? \n",
    "### For geodetic graphs, the set of nodes with minimum degree achieves minimal full extent"
   ]
  },
  {
   "cell_type": "code",
   "execution_count": null,
   "id": "3b0bb871-0ea5-403e-8152-c4955f956843",
   "metadata": {},
   "outputs": [],
   "source": []
  },
  {
   "cell_type": "code",
   "execution_count": null,
   "id": "a3ba98b9-9ec1-4320-bf09-ab0756eb582a",
   "metadata": {},
   "outputs": [],
   "source": []
  }
 ],
 "metadata": {
  "kernelspec": {
   "display_name": "Python 3",
   "language": "python",
   "name": "python3"
  },
  "language_info": {
   "codemirror_mode": {
    "name": "ipython",
    "version": 3
   },
   "file_extension": ".py",
   "mimetype": "text/x-python",
   "name": "python",
   "nbconvert_exporter": "python",
   "pygments_lexer": "ipython3",
   "version": "3.8.8"
  }
 },
 "nbformat": 4,
 "nbformat_minor": 5
}
