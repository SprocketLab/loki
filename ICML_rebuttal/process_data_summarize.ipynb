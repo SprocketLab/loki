{
 "cells": [
  {
   "cell_type": "code",
   "execution_count": 1,
   "metadata": {},
   "outputs": [],
   "source": [
    "import numpy as np\n",
    "import pandas as pd\n",
    "import networkx as nx\n",
    "import matplotlib.pyplot as plt\n",
    "\n",
    "from tqdm import tqdm\n",
    "from itertools import combinations\n",
    "from scipy.sparse import csr_matrix"
   ]
  },
  {
   "cell_type": "code",
   "execution_count": 2,
   "metadata": {},
   "outputs": [],
   "source": [
    "K = 10_000\n",
    "basedir = \"./lshtc\""
   ]
  },
  {
   "cell_type": "code",
   "execution_count": 3,
   "metadata": {},
   "outputs": [],
   "source": [
    "def load_dataset(filename=\"train-remapped.csv\", nmax=1_000_000_000_000):\n",
    "    with open(filename, \"r\") as f:\n",
    "        lines = f.readlines()\n",
    "\n",
    "    class_set = set()\n",
    "    labels = []\n",
    "    features = []\n",
    "    for l, line in tqdm(enumerate(lines), total=len(lines)-1):\n",
    "        if l > nmax: break\n",
    "        if l == 0: continue\n",
    "        line = line.strip().split(\" \")\n",
    "        label = []\n",
    "        feature = {}\n",
    "        for element in line:\n",
    "            if \":\" not in element:\n",
    "                element = int(element.replace(\",\", \"\"))\n",
    "                class_set.add(element)\n",
    "                label.append(element)\n",
    "            else:\n",
    "                feature_id = int(element.split(\":\")[0])\n",
    "                feature_value = int(element.split(\":\")[1])\n",
    "                feature[feature_id] = feature_value\n",
    "        labels.append(label)\n",
    "        features.append(feature)\n",
    "    return class_set, features, labels\n",
    "\n",
    "def filter_dataset(classes, X, Y, f):\n",
    "    Xnew, Ynew = [], []\n",
    "    for _x, _y in zip(X, Y):\n",
    "        if f(_x, _y):\n",
    "            Xnew.append(_x)\n",
    "            Ynew.append(_y)\n",
    "    classes_new = set([val for sublist in Ynew for val in sublist])\n",
    "    return classes_new, Xnew, Ynew\n"
   ]
  },
  {
   "cell_type": "code",
   "execution_count": 4,
   "metadata": {},
   "outputs": [
    {
     "name": "stderr",
     "output_type": "stream",
     "text": [
      "2365437it [00:45, 51867.62it/s]                             \n"
     ]
    }
   ],
   "source": [
    "classes, X, Y = load_dataset(f\"{basedir}/train-remapped.csv\")"
   ]
  },
  {
   "attachments": {},
   "cell_type": "markdown",
   "metadata": {},
   "source": [
    "# Get the graph... "
   ]
  },
  {
   "cell_type": "code",
   "execution_count": 5,
   "metadata": {},
   "outputs": [
    {
     "name": "stderr",
     "output_type": "stream",
     "text": [
      "863261it [00:03, 282187.71it/s]                            \n"
     ]
    },
    {
     "data": {
      "text/plain": [
       "347434"
      ]
     },
     "execution_count": 5,
     "metadata": {},
     "output_type": "execute_result"
    }
   ],
   "source": [
    "def get_graph(hierarchy_file=\"hierarchy.txt\"):\n",
    "    with open(hierarchy_file, \"r\") as f:\n",
    "        lines = f.readlines()\n",
    "    G = nx.Graph()\n",
    "    for l, line in tqdm(enumerate(lines), total=len(lines)-1):\n",
    "        a, b = line.split(' ')\n",
    "        a = int(a.strip())\n",
    "        b = int(b.strip())\n",
    "        if a in classes or b in classes:\n",
    "            if a not in G.nodes():\n",
    "                G.add_node(a)\n",
    "            if b not in G.nodes():\n",
    "                G.add_node(b)\n",
    "            G.add_edge(a, b)\n",
    "    return G\n",
    "\n",
    "# Get the largest connected component in the graph... \n",
    "G = get_graph(f\"{basedir}/hierarchy.txt\")\n",
    "G_components = [G.subgraph(cc_G) for cc_G in nx.connected_components(G)]\n",
    "G_ours = G_components[np.argmax([len(G_c.nodes()) for G_c in G_components])] \n",
    "len(G_ours.nodes())"
   ]
  },
  {
   "attachments": {},
   "cell_type": "markdown",
   "metadata": {},
   "source": [
    "# Graph summarization"
   ]
  },
  {
   "cell_type": "code",
   "execution_count": null,
   "metadata": {},
   "outputs": [],
   "source": [
    "# Run the script separately"
   ]
  },
  {
   "cell_type": "code",
   "execution_count": 6,
   "metadata": {},
   "outputs": [],
   "source": [
    "G_summary = nx.read_adjlist(f\"output/G_summary.adjlist\")"
   ]
  },
  {
   "cell_type": "code",
   "execution_count": 7,
   "metadata": {},
   "outputs": [],
   "source": [
    "import pickle\n",
    "\n",
    "with open(\"output/manifest.pkl\", \"rb\") as f:\n",
    "    manifest = pickle.load(f)"
   ]
  },
  {
   "attachments": {},
   "cell_type": "markdown",
   "metadata": {},
   "source": [
    "# Get adjacency matrix"
   ]
  },
  {
   "cell_type": "code",
   "execution_count": 22,
   "metadata": {},
   "outputs": [],
   "source": [
    "all_paths = dict(nx.all_pairs_shortest_path_length(G_summary))"
   ]
  },
  {
   "cell_type": "code",
   "execution_count": 23,
   "metadata": {},
   "outputs": [
    {
     "name": "stderr",
     "output_type": "stream",
     "text": [
      "100%|██████████| 10000/10000 [00:35<00:00, 285.35it/s]\n"
     ]
    }
   ],
   "source": [
    "adj = np.zeros((K, K))\n",
    "\n",
    "nodelist = list(all_paths.keys())\n",
    "\n",
    "for i in tqdm(range(K)):\n",
    "    for j in range(i+1, K):\n",
    "        adj[i, j] = all_paths[nodelist[i]][nodelist[j]]\n",
    "        adj[j, i] = all_paths[nodelist[j]][nodelist[i]]\n",
    "\n"
   ]
  },
  {
   "cell_type": "code",
   "execution_count": 32,
   "metadata": {},
   "outputs": [
    {
     "data": {
      "text/plain": [
       "2.4840098"
      ]
     },
     "execution_count": 32,
     "metadata": {},
     "output_type": "execute_result"
    }
   ],
   "source": [
    "np.mean(adj)"
   ]
  },
  {
   "cell_type": "code",
   "execution_count": null,
   "metadata": {},
   "outputs": [],
   "source": []
  }
 ],
 "metadata": {
  "kernelspec": {
   "display_name": "Python 3",
   "language": "python",
   "name": "python3"
  },
  "language_info": {
   "codemirror_mode": {
    "name": "ipython",
    "version": 3
   },
   "file_extension": ".py",
   "mimetype": "text/x-python",
   "name": "python",
   "nbconvert_exporter": "python",
   "pygments_lexer": "ipython3",
   "version": "3.8.16"
  }
 },
 "nbformat": 4,
 "nbformat_minor": 4
}
