{
 "cells": [
  {
   "cell_type": "code",
   "execution_count": 1,
   "metadata": {},
   "outputs": [],
   "source": [
    "import numpy as np\n",
    "import pandas as pd\n",
    "import networkx as nx\n",
    "import matplotlib.pyplot as plt\n",
    "\n",
    "from tqdm import tqdm\n",
    "from itertools import combinations\n",
    "from scipy.sparse import csr_matrix"
   ]
  },
  {
   "cell_type": "code",
   "execution_count": 2,
   "metadata": {},
   "outputs": [],
   "source": [
    "K = 10_000\n",
    "basedir = \"./lshtc\""
   ]
  },
  {
   "cell_type": "code",
   "execution_count": 3,
   "metadata": {},
   "outputs": [],
   "source": [
    "def load_dataset(filename=\"train-remapped.csv\", nmax=1_000_000_000_000):\n",
    "    with open(filename, \"r\") as f:\n",
    "        lines = f.readlines()\n",
    "\n",
    "    class_set = set()\n",
    "    labels = []\n",
    "    features = []\n",
    "    for l, line in tqdm(enumerate(lines), total=len(lines)-1):\n",
    "        if l > nmax: break\n",
    "        if l == 0: continue\n",
    "        line = line.strip().split(\" \")\n",
    "        label = []\n",
    "        feature = {}\n",
    "        for element in line:\n",
    "            if \":\" not in element:\n",
    "                element = int(element.replace(\",\", \"\"))\n",
    "                class_set.add(element)\n",
    "                label.append(element)\n",
    "            else:\n",
    "                feature_id = int(element.split(\":\")[0])\n",
    "                feature_value = int(element.split(\":\")[1])\n",
    "                feature[feature_id] = feature_value\n",
    "        labels.append(label)\n",
    "        features.append(feature)\n",
    "    return class_set, features, labels\n",
    "\n",
    "def filter_dataset(classes, X, Y, f):\n",
    "    Xnew, Ynew = [], []\n",
    "    for _x, _y in zip(X, Y):\n",
    "        if f(_x, _y):\n",
    "            Xnew.append(_x)\n",
    "            Ynew.append(_y)\n",
    "    classes_new = set([val for sublist in Ynew for val in sublist])\n",
    "    return classes_new, Xnew, Ynew\n"
   ]
  },
  {
   "cell_type": "code",
   "execution_count": 4,
   "metadata": {},
   "outputs": [
    {
     "name": "stderr",
     "output_type": "stream",
     "text": [
      "2365437it [01:28, 26758.95it/s]                             \n"
     ]
    }
   ],
   "source": [
    "classes, X, Y = load_dataset(f\"{basedir}/train-remapped.csv\")"
   ]
  },
  {
   "attachments": {},
   "cell_type": "markdown",
   "metadata": {},
   "source": [
    "# Get the graph... "
   ]
  },
  {
   "cell_type": "code",
   "execution_count": 5,
   "metadata": {},
   "outputs": [
    {
     "name": "stderr",
     "output_type": "stream",
     "text": [
      "863261it [00:04, 212727.50it/s]                            \n"
     ]
    },
    {
     "data": {
      "text/plain": [
       "347434"
      ]
     },
     "execution_count": 5,
     "metadata": {},
     "output_type": "execute_result"
    }
   ],
   "source": [
    "def get_graph(hierarchy_file=\"hierarchy.txt\"):\n",
    "    with open(hierarchy_file, \"r\") as f:\n",
    "        lines = f.readlines()\n",
    "    G = nx.Graph()\n",
    "    for l, line in tqdm(enumerate(lines), total=len(lines)-1):\n",
    "        a, b = line.split(' ')\n",
    "        a = int(a.strip())\n",
    "        b = int(b.strip())\n",
    "        if a in classes or b in classes:\n",
    "            if a not in G.nodes():\n",
    "                G.add_node(a)\n",
    "            if b not in G.nodes():\n",
    "                G.add_node(b)\n",
    "            G.add_edge(a, b)\n",
    "    return G\n",
    "\n",
    "# Get the largest connected component in the graph... \n",
    "G = get_graph(f\"{basedir}/hierarchy.txt\")\n",
    "G_components = [G.subgraph(cc_G) for cc_G in nx.connected_components(G)]\n",
    "G_ours = G_components[np.argmax([len(G_c.nodes()) for G_c in G_components])] \n",
    "len(G_ours.nodes())"
   ]
  },
  {
   "attachments": {},
   "cell_type": "markdown",
   "metadata": {},
   "source": [
    "# Filter the dataset by the largest connected component... "
   ]
  },
  {
   "cell_type": "code",
   "execution_count": 6,
   "metadata": {},
   "outputs": [
    {
     "name": "stderr",
     "output_type": "stream",
     "text": [
      "2365436it [00:09, 241157.43it/s]                             \n"
     ]
    }
   ],
   "source": [
    "# Filter by the largest CC... \n",
    "cc = set(G_ours.nodes())\n",
    "\n",
    "Xnew, Ynew = [], []\n",
    "for _x, _y in tqdm(zip(X, Y), total=len(X)-1):\n",
    "    if len(set(_y) & cc) > 0:\n",
    "        Xnew.append(_x)\n",
    "        _y_new = []\n",
    "        for y_indiv in _y:\n",
    "            if y_indiv in cc:\n",
    "                _y_new.append(y_indiv)\n",
    "        Ynew.append(_y_new)\n",
    "classes_new = set([val for sublist in Ynew for val in sublist])\n",
    "# classes_new, Xnew, Ynew"
   ]
  },
  {
   "attachments": {},
   "cell_type": "markdown",
   "metadata": {},
   "source": [
    "# Compute frequency list, get the top-K most frequent classes... "
   ]
  },
  {
   "cell_type": "code",
   "execution_count": 7,
   "metadata": {},
   "outputs": [
    {
     "name": "stderr",
     "output_type": "stream",
     "text": [
      "100%|██████████| 6062514/6062514 [00:03<00:00, 1888473.72it/s]\n"
     ]
    }
   ],
   "source": [
    "def count_frequency(l):\n",
    "    freq = {}\n",
    "    for item in tqdm(l):\n",
    "        if (item in freq):\n",
    "            freq[item] += 1\n",
    "        else:\n",
    "            freq[item] = 1\n",
    "    return freq\n",
    "\n",
    "l = [val for sublist in Ynew for val in sublist]\n",
    "freq = count_frequency(l)"
   ]
  },
  {
   "cell_type": "code",
   "execution_count": null,
   "metadata": {},
   "outputs": [],
   "source": []
  },
  {
   "attachments": {},
   "cell_type": "markdown",
   "metadata": {},
   "source": [
    "# For each point, choose the class with the highest frequency... "
   ]
  },
  {
   "cell_type": "code",
   "execution_count": 8,
   "metadata": {},
   "outputs": [],
   "source": [
    "classes, X, Y = classes_new, Xnew, Ynew"
   ]
  },
  {
   "cell_type": "code",
   "execution_count": 9,
   "metadata": {},
   "outputs": [
    {
     "name": "stderr",
     "output_type": "stream",
     "text": [
      "2117083it [00:15, 136016.97it/s]                             \n"
     ]
    }
   ],
   "source": [
    "# Filter by the largest CC... \n",
    "cc = set(G_ours.nodes())\n",
    "\n",
    "Xnew, Ynew = [], []\n",
    "for _x, _y in tqdm(zip(X, Y), total=len(X)-1):\n",
    "    Xnew.append(_x)\n",
    "    _y_new = []\n",
    "    _y_freqs = [freq[_yi] for _yi in _y]\n",
    "    _y_new = [_y[np.argmax(_y_freqs)]]\n",
    "    Ynew.append(_y_new)\n",
    "classes_new = set([val for sublist in Ynew for val in sublist])\n",
    "# classes_new, Xnew, Ynew"
   ]
  },
  {
   "cell_type": "code",
   "execution_count": 10,
   "metadata": {},
   "outputs": [],
   "source": [
    "class_list = np.array(list(classes_new))\n",
    "freq_list = np.array([freq[c] for c in class_list])\n",
    "topk_inds = np.argsort(freq_list)[::-1][:K]\n",
    "topk_classes = class_list[topk_inds]\n",
    "topk_freqs = freq_list[topk_inds]"
   ]
  },
  {
   "cell_type": "code",
   "execution_count": null,
   "metadata": {},
   "outputs": [],
   "source": []
  },
  {
   "attachments": {},
   "cell_type": "markdown",
   "metadata": {},
   "source": [
    "# Filter by the top-K most frequent classes... "
   ]
  },
  {
   "cell_type": "code",
   "execution_count": 11,
   "metadata": {},
   "outputs": [],
   "source": [
    "classes, X, Y = classes_new, Xnew, Ynew"
   ]
  },
  {
   "cell_type": "code",
   "execution_count": 12,
   "metadata": {},
   "outputs": [
    {
     "name": "stderr",
     "output_type": "stream",
     "text": [
      "2117083it [00:05, 397058.27it/s]                             \n"
     ]
    }
   ],
   "source": [
    "topk_classes_set = set(topk_classes)\n",
    "\n",
    "Xnew, Ynew = [], []\n",
    "for _x, _y in tqdm(zip(X, Y), total=len(X)-1):\n",
    "    if len(set(_y) & topk_classes_set) > 0:\n",
    "        Xnew.append(_x)\n",
    "        _y_new = []\n",
    "        for y_indiv in _y:\n",
    "            if y_indiv in topk_classes_set:\n",
    "                _y_new.append(y_indiv)\n",
    "        Ynew.append(_y_new)\n",
    "classes_new = set([val for sublist in Ynew for val in sublist])\n",
    "# classes_new, Xnew, Ynew"
   ]
  },
  {
   "attachments": {},
   "cell_type": "markdown",
   "metadata": {},
   "source": [
    "------------------------------------------------------------------------------------------------------------------------"
   ]
  },
  {
   "attachments": {},
   "cell_type": "markdown",
   "metadata": {},
   "source": [
    "# Get all shortest paths between the top-K most frequent classes (not subgraph)"
   ]
  },
  {
   "cell_type": "code",
   "execution_count": null,
   "metadata": {},
   "outputs": [],
   "source": [
    "classes_new_list = list(classes_new)"
   ]
  },
  {
   "cell_type": "code",
   "execution_count": null,
   "metadata": {},
   "outputs": [
    {
     "data": {
      "text/plain": [
       "10000"
      ]
     },
     "execution_count": 14,
     "metadata": {},
     "output_type": "execute_result"
    }
   ],
   "source": [
    "len(classes_new_list)"
   ]
  },
  {
   "cell_type": "code",
   "execution_count": null,
   "metadata": {},
   "outputs": [
    {
     "name": "stderr",
     "output_type": "stream",
     "text": [
      "100%|██████████| 10000/10000 [01:32<00:00, 107.64it/s]\n"
     ]
    }
   ],
   "source": [
    "approx_steiner_tree = nx.algorithms.approximation.steiner_tree(\n",
    "    G_ours, classes_new, method=\"mehlhorn\")\n",
    "\n",
    "#nx.algorithms.approximation.metric_closure(approx_steiner_tree)\n",
    "len(approx_steiner_tree.nodes())\n",
    "nodes = [node for (node, val) in approx_steiner_tree.degree()]\n",
    "degrees = [val for (node, val) in approx_steiner_tree.degree()]\n",
    "\n",
    "# lengths = dict(nx.all_pairs_dijkstra_path_length(approx_steiner_tree))\n",
    "### Too slow!\n",
    "\n",
    "#### Use O(|V|) all pairs shortest path trick for trees\n",
    "\n",
    "# Define the root arbitrarily (in this case, the max degree vertex), \n",
    "# and orient the tree about this root\n",
    "root = nodes[np.argmax(degrees)]\n",
    "oriented_approx_steiner_tree = nx.dfs_tree(approx_steiner_tree, root)\n",
    "\n",
    "# Get the LCA nodes (requires directedness)\n",
    "pairs = combinations(classes_new_list, 2)\n",
    "all_pairs_LCA = dict(nx.algorithms.tree_all_pairs_lowest_common_ancestor(\n",
    "    oriented_approx_steiner_tree, pairs=pairs))\n",
    "\n",
    "# Get distance between each node and root\n",
    "d_root = nx.single_source_shortest_path_length(approx_steiner_tree, root)\n",
    "\n",
    "\n",
    "c = K\n",
    "d = np.zeros((c, c))\n",
    "for i in tqdm(range(c)):\n",
    "    for j in range(i+1, c):\n",
    "        a = classes_new_list[i]\n",
    "        b = classes_new_list[j]\n",
    "        try:\n",
    "            lca_overlap = all_pairs_LCA[(a, b)]\n",
    "        except:\n",
    "            lca_overlap = all_pairs_LCA[(b, a)]\n",
    "        dist = d_root[a] + d_root[b] - (2 * d_root[lca_overlap])\n",
    "        d[i, j] = dist\n",
    "        d[j, i] = d[i, j]\n",
    "\n",
    "#plt.matshow(d)"
   ]
  },
  {
   "cell_type": "code",
   "execution_count": null,
   "metadata": {},
   "outputs": [],
   "source": [
    "# TODO save to disk"
   ]
  },
  {
   "attachments": {},
   "cell_type": "markdown",
   "metadata": {},
   "source": [
    "# Relabel classes to match matrix index..."
   ]
  },
  {
   "attachments": {},
   "cell_type": "markdown",
   "metadata": {},
   "source": [
    "todo"
   ]
  },
  {
   "cell_type": "code",
   "execution_count": null,
   "metadata": {},
   "outputs": [],
   "source": []
  },
  {
   "cell_type": "code",
   "execution_count": null,
   "metadata": {},
   "outputs": [
    {
     "ename": "",
     "evalue": "",
     "output_type": "error",
     "traceback": [
      "\u001b[1;31mCanceled future for execute_request message before replies were done"
     ]
    },
    {
     "ename": "",
     "evalue": "",
     "output_type": "error",
     "traceback": [
      "\u001b[1;31mThe Kernel crashed while executing code in the the current cell or a previous cell. Please review the code in the cell(s) to identify a possible cause of the failure. Click <a href='https://aka.ms/vscodeJupyterKernelCrash'>here</a> for more info. View Jupyter <a href='command:jupyter.viewOutput'>log</a> for further details."
     ]
    }
   ],
   "source": []
  },
  {
   "attachments": {},
   "cell_type": "markdown",
   "metadata": {},
   "source": [
    "------------------------------------------------------------------------------------------"
   ]
  },
  {
   "cell_type": "code",
   "execution_count": 15,
   "metadata": {},
   "outputs": [],
   "source": [
    "from sklearn.feature_extraction import DictVectorizer\n",
    "\n",
    "v = DictVectorizer(sparse=True)\n",
    "X_sparse = v.fit_transform(Xnew)\n",
    "Y_sparse = Ynew[:, 0]"
   ]
  },
  {
   "cell_type": "code",
   "execution_count": null,
   "metadata": {},
   "outputs": [],
   "source": []
  },
  {
   "cell_type": "code",
   "execution_count": null,
   "metadata": {},
   "outputs": [],
   "source": []
  },
  {
   "cell_type": "code",
   "execution_count": 58,
   "metadata": {},
   "outputs": [],
   "source": [
    "#### Gets the indices for the first half of the K_train most frequent classes\n",
    "\n",
    "K_train = 100\n",
    "\n",
    "# Get the indices the the 100 most frequent classes\n",
    "class_list = np.array(list(classes_new))\n",
    "freq_list = np.array([freq[c] for c in class_list])\n",
    "topk_inds = np.argsort(freq_list)[::-1][:K_train]\n",
    "topk_classes = class_list[topk_inds]\n",
    "topk_freqs = freq_list[topk_inds]\n",
    "topk_classes_set = set(topk_classes)\n",
    "\n",
    "inds = []\n",
    "for i in range(len(Y_sparse)):\n",
    "    y = Y_sparse[i]\n",
    "    if y in topk_classes_set:\n",
    "        inds.append(i)\n",
    "inds = np.array(inds)\n",
    "\n",
    "# randomize their order\n",
    "inds = inds[np.random.permutation(len(inds))]\n",
    "\n",
    "# take the first half \n",
    "inds = inds[:len(inds)//2]\n",
    "\n",
    "# this is the training set \n",
    "X_train = X_sparse[inds]\n",
    "Y_train = Y_sparse[inds]\n",
    "\n",
    "# and the opposite is the test set\n",
    "inds_rest = list(set(np.arange(Y_sparse.shape[0])) - set(inds))\n",
    "X_test = X_sparse[inds_rest]\n",
    "Y_test = Y_sparse[inds_rest]"
   ]
  },
  {
   "cell_type": "code",
   "execution_count": 55,
   "metadata": {},
   "outputs": [
    {
     "data": {
      "text/html": [
       "<style>#sk-container-id-6 {color: black;background-color: white;}#sk-container-id-6 pre{padding: 0;}#sk-container-id-6 div.sk-toggleable {background-color: white;}#sk-container-id-6 label.sk-toggleable__label {cursor: pointer;display: block;width: 100%;margin-bottom: 0;padding: 0.3em;box-sizing: border-box;text-align: center;}#sk-container-id-6 label.sk-toggleable__label-arrow:before {content: \"▸\";float: left;margin-right: 0.25em;color: #696969;}#sk-container-id-6 label.sk-toggleable__label-arrow:hover:before {color: black;}#sk-container-id-6 div.sk-estimator:hover label.sk-toggleable__label-arrow:before {color: black;}#sk-container-id-6 div.sk-toggleable__content {max-height: 0;max-width: 0;overflow: hidden;text-align: left;background-color: #f0f8ff;}#sk-container-id-6 div.sk-toggleable__content pre {margin: 0.2em;color: black;border-radius: 0.25em;background-color: #f0f8ff;}#sk-container-id-6 input.sk-toggleable__control:checked~div.sk-toggleable__content {max-height: 200px;max-width: 100%;overflow: auto;}#sk-container-id-6 input.sk-toggleable__control:checked~label.sk-toggleable__label-arrow:before {content: \"▾\";}#sk-container-id-6 div.sk-estimator input.sk-toggleable__control:checked~label.sk-toggleable__label {background-color: #d4ebff;}#sk-container-id-6 div.sk-label input.sk-toggleable__control:checked~label.sk-toggleable__label {background-color: #d4ebff;}#sk-container-id-6 input.sk-hidden--visually {border: 0;clip: rect(1px 1px 1px 1px);clip: rect(1px, 1px, 1px, 1px);height: 1px;margin: -1px;overflow: hidden;padding: 0;position: absolute;width: 1px;}#sk-container-id-6 div.sk-estimator {font-family: monospace;background-color: #f0f8ff;border: 1px dotted black;border-radius: 0.25em;box-sizing: border-box;margin-bottom: 0.5em;}#sk-container-id-6 div.sk-estimator:hover {background-color: #d4ebff;}#sk-container-id-6 div.sk-parallel-item::after {content: \"\";width: 100%;border-bottom: 1px solid gray;flex-grow: 1;}#sk-container-id-6 div.sk-label:hover label.sk-toggleable__label {background-color: #d4ebff;}#sk-container-id-6 div.sk-serial::before {content: \"\";position: absolute;border-left: 1px solid gray;box-sizing: border-box;top: 0;bottom: 0;left: 50%;z-index: 0;}#sk-container-id-6 div.sk-serial {display: flex;flex-direction: column;align-items: center;background-color: white;padding-right: 0.2em;padding-left: 0.2em;position: relative;}#sk-container-id-6 div.sk-item {position: relative;z-index: 1;}#sk-container-id-6 div.sk-parallel {display: flex;align-items: stretch;justify-content: center;background-color: white;position: relative;}#sk-container-id-6 div.sk-item::before, #sk-container-id-6 div.sk-parallel-item::before {content: \"\";position: absolute;border-left: 1px solid gray;box-sizing: border-box;top: 0;bottom: 0;left: 50%;z-index: -1;}#sk-container-id-6 div.sk-parallel-item {display: flex;flex-direction: column;z-index: 1;position: relative;background-color: white;}#sk-container-id-6 div.sk-parallel-item:first-child::after {align-self: flex-end;width: 50%;}#sk-container-id-6 div.sk-parallel-item:last-child::after {align-self: flex-start;width: 50%;}#sk-container-id-6 div.sk-parallel-item:only-child::after {width: 0;}#sk-container-id-6 div.sk-dashed-wrapped {border: 1px dashed gray;margin: 0 0.4em 0.5em 0.4em;box-sizing: border-box;padding-bottom: 0.4em;background-color: white;}#sk-container-id-6 div.sk-label label {font-family: monospace;font-weight: bold;display: inline-block;line-height: 1.2em;}#sk-container-id-6 div.sk-label-container {text-align: center;}#sk-container-id-6 div.sk-container {/* jupyter's `normalize.less` sets `[hidden] { display: none; }` but bootstrap.min.css set `[hidden] { display: none !important; }` so we also need the `!important` here to be able to override the default hidden behavior on the sphinx rendered scikit-learn.org. See: https://github.com/scikit-learn/scikit-learn/issues/21755 */display: inline-block !important;position: relative;}#sk-container-id-6 div.sk-text-repr-fallback {display: none;}</style><div id=\"sk-container-id-6\" class=\"sk-top-container\"><div class=\"sk-text-repr-fallback\"><pre>KNeighborsClassifier(n_neighbors=10)</pre><b>In a Jupyter environment, please rerun this cell to show the HTML representation or trust the notebook. <br />On GitHub, the HTML representation is unable to render, please try loading this page with nbviewer.org.</b></div><div class=\"sk-container\" hidden><div class=\"sk-item\"><div class=\"sk-estimator sk-toggleable\"><input class=\"sk-toggleable__control sk-hidden--visually\" id=\"sk-estimator-id-6\" type=\"checkbox\" checked><label for=\"sk-estimator-id-6\" class=\"sk-toggleable__label sk-toggleable__label-arrow\">KNeighborsClassifier</label><div class=\"sk-toggleable__content\"><pre>KNeighborsClassifier(n_neighbors=10)</pre></div></div></div></div></div>"
      ],
      "text/plain": [
       "KNeighborsClassifier(n_neighbors=10)"
      ]
     },
     "execution_count": 55,
     "metadata": {},
     "output_type": "execute_result"
    }
   ],
   "source": [
    "from sklearn.neighbors import KNeighborsClassifier\n",
    "\n",
    "neigh = KNeighborsClassifier(n_neighbors=10)\n",
    "neigh.fit(X_train, Y_train)\n"
   ]
  },
  {
   "attachments": {},
   "cell_type": "markdown",
   "metadata": {},
   "source": [
    "baseline"
   ]
  },
  {
   "cell_type": "code",
   "execution_count": 59,
   "metadata": {},
   "outputs": [],
   "source": [
    "neigh.predict(X_test)"
   ]
  },
  {
   "cell_type": "code",
   "execution_count": null,
   "metadata": {},
   "outputs": [],
   "source": []
  }
 ],
 "metadata": {
  "kernelspec": {
   "display_name": "tws",
   "language": "python",
   "name": "python3"
  },
  "language_info": {
   "codemirror_mode": {
    "name": "ipython",
    "version": 3
   },
   "file_extension": ".py",
   "mimetype": "text/x-python",
   "name": "python",
   "nbconvert_exporter": "python",
   "pygments_lexer": "ipython3",
   "version": "3.8.13"
  },
  "orig_nbformat": 4
 },
 "nbformat": 4,
 "nbformat_minor": 2
}
