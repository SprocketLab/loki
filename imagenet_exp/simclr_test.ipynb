{
 "cells": [
  {
   "cell_type": "code",
   "execution_count": null,
   "id": "8852ac39-5fca-41f3-a91b-9820c4f39220",
   "metadata": {},
   "outputs": [],
   "source": [
    "import os\n",
    "import json\n",
    "import random\n",
    "import warnings\n",
    "import numpy as np\n",
    "from tqdm import tqdm\n",
    "import networkx as nx\n",
    "import matplotlib.pyplot as plt\n",
    "from sklearn.metrics import accuracy_score\n",
    "from sklearn.multiclass import OneVsRestClassifier\n",
    "from sklearn.linear_model import LogisticRegression\n",
    "\n",
    "import torch\n",
    "import torch.utils.data\n",
    "import torchvision.datasets as datasets\n",
    "import torchvision.transforms as transforms\n",
    "from simclr_pretrained.resnet_wider import resnet50x1, resnet50x2, resnet50x4"
   ]
  },
  {
   "cell_type": "code",
   "execution_count": null,
   "id": "53b21902-05bc-46f4-8e5a-f58b273be45e",
   "metadata": {},
   "outputs": [],
   "source": [
    "tree_structure = \"mintree\"\n",
    "path_to_imagenet = \"/hdd2/datasets/imagenet/val/\"\n",
    "parameter_path = \"./simclr_pretrained/resnet50-1x.pth\"\n",
    "num_of_train = 6000"
   ]
  },
  {
   "cell_type": "markdown",
   "id": "49344a07-30dc-4aa2-ba83-521249da7b20",
   "metadata": {},
   "source": [
    "### Load Tree Structure and Label Info"
   ]
  },
  {
   "cell_type": "code",
   "execution_count": null,
   "id": "828c0cdd-45dc-45f7-9df5-f86bbd411b29",
   "metadata": {},
   "outputs": [],
   "source": [
    "T = nx.Graph()\n",
    "full_labels = []\n",
    "\n",
    "with open('../imagenet_' + tree_structure + '.txt', 'r') as f:\n",
    "    for line in f.readlines():\n",
    "        nodes = line.split()\n",
    "        for node in nodes:\n",
    "            if node not in T:\n",
    "                T.add_node(node)\n",
    "        T.add_edge(*nodes)\n",
    "        \n",
    "leaves = [x for x in T.nodes() if T.degree(x) == 1]\n",
    "full_labels = np.array(leaves)"
   ]
  },
  {
   "cell_type": "code",
   "execution_count": null,
   "id": "56467040-5d3b-4433-a055-0a65f8b1ee0e",
   "metadata": {},
   "outputs": [],
   "source": [
    "f = open('./dir_label_name.json')\n",
    "map_collection = json.load(f)\n",
    "f.close()"
   ]
  },
  {
   "cell_type": "markdown",
   "id": "b91fc3a5-d73c-4ba3-894b-85541371cf00",
   "metadata": {},
   "source": [
    "### Load Data from ImageNet"
   ]
  },
  {
   "cell_type": "code",
   "execution_count": null,
   "id": "c715df46-5c15-44eb-866e-30512a939e6c",
   "metadata": {},
   "outputs": [],
   "source": [
    "val_loader = torch.utils.data.DataLoader(\n",
    "    datasets.ImageFolder(path_to_imagenet, transforms.Compose([\n",
    "        transforms.Resize(256),\n",
    "        transforms.CenterCrop(256),\n",
    "        transforms.ToTensor(),\n",
    "    ])),\n",
    "    batch_size=256, shuffle=True,\n",
    "    num_workers=10, pin_memory=True)"
   ]
  },
  {
   "cell_type": "markdown",
   "id": "fac1d153-493c-4416-a7b2-14625a2c890d",
   "metadata": {},
   "source": [
    "### Load Parameters from Pretrained SimCLR "
   ]
  },
  {
   "cell_type": "code",
   "execution_count": null,
   "id": "e6fecba0-7cd6-4b3c-90e0-01fc3469308f",
   "metadata": {},
   "outputs": [],
   "source": [
    "model = resnet50x1()\n",
    "sd = torch.load(parameter_path, map_location='cpu')\n",
    "model.load_state_dict(sd[\"state_dict\"])\n",
    "model = model.to('cuda:0')"
   ]
  },
  {
   "cell_type": "markdown",
   "id": "47f3a325-9488-4e1b-a5bb-e9b0b766ecd4",
   "metadata": {},
   "source": [
    "### Extract Image Embeddings from SimCLR"
   ]
  },
  {
   "cell_type": "code",
   "execution_count": null,
   "id": "b17ca933-2aae-4f92-a313-4f0a4cc6254e",
   "metadata": {},
   "outputs": [],
   "source": [
    "def get_activation(name):\n",
    "    def hook(model, input, output):\n",
    "        activation[name] = output.detach()\n",
    "    return hook"
   ]
  },
  {
   "cell_type": "code",
   "execution_count": null,
   "id": "22884f25-9e2c-4557-89f0-32b2df43087b",
   "metadata": {
    "tags": []
   },
   "outputs": [],
   "source": [
    "embedding_collection = []\n",
    "ground_truth_collection = []\n",
    "for i, (images, target) in enumerate(val_loader):\n",
    "    ## load partial dataset for toy-exp, we can extend it to a larger number later ##\n",
    "    if i > 49: break\n",
    "    \n",
    "    images_cuda = images.to(\"cuda:0\")\n",
    "    activation = {}\n",
    "    model.eval()\n",
    "    with torch.no_grad():\n",
    "        ## get embeddings from encoder, right before linear projection ##\n",
    "        model.avgpool.register_forward_hook(get_activation('avgpool'))\n",
    "        output = model(images_cuda)\n",
    "        embeddings = torch.squeeze(activation['avgpool']).cpu().detach().numpy()\n",
    "        # print(embeddings.shape)\n",
    "        embedding_collection.append(embeddings)\n",
    "    ground_truth_collection.append(target.detach().numpy())"
   ]
  },
  {
   "cell_type": "code",
   "execution_count": null,
   "id": "d5ea9136-cadf-4b67-a6bf-719b76b74653",
   "metadata": {
    "tags": []
   },
   "outputs": [],
   "source": [
    "embedding_collection = np.array(embedding_collection).reshape(len(embedding_collection) * 256, 2048)\n",
    "ground_truth_collection = np.array(ground_truth_collection).ravel()"
   ]
  },
  {
   "cell_type": "code",
   "execution_count": null,
   "id": "108dd429-4220-475c-87ac-b4255ed7b792",
   "metadata": {},
   "outputs": [],
   "source": [
    "embedding_collection.shape, ground_truth_collection.shape"
   ]
  },
  {
   "cell_type": "markdown",
   "id": "b59ffb05-4ab5-4e1d-85c5-05163a5733c6",
   "metadata": {},
   "source": [
    "### Sample 100 classes from 1000 classes"
   ]
  },
  {
   "cell_type": "code",
   "execution_count": null,
   "id": "20564d2f-5b51-4d26-aebf-e543890b78d2",
   "metadata": {},
   "outputs": [],
   "source": [
    "sampled_classes = np.random.choice(len(full_labels), 100, replace=False)"
   ]
  },
  {
   "cell_type": "markdown",
   "id": "42e68cb0-f3df-45bd-b3e5-8429bca61151",
   "metadata": {},
   "source": [
    "### Slice data into training data and testing data"
   ]
  },
  {
   "cell_type": "code",
   "execution_count": null,
   "id": "fcc51dfa-ad5b-4854-9918-747fa6a87fb5",
   "metadata": {},
   "outputs": [],
   "source": [
    "train_X = embedding_collection[:num_of_train]\n",
    "train_y = ground_truth_collection[:num_of_train]\n",
    "test_X = embedding_collection[num_of_train:]\n",
    "test_y = ground_truth_collection[num_of_train:]\n",
    "train_X.shape, train_y.shape, test_X.shape, test_y.shape"
   ]
  },
  {
   "cell_type": "markdown",
   "id": "ae5d0855-401b-4d03-8327-b1c37ad255db",
   "metadata": {},
   "source": [
    "### Train 100 Logistice Regression within One-vs-Rest Method"
   ]
  },
  {
   "cell_type": "code",
   "execution_count": null,
   "id": "4e0e9e30-6b25-4ff3-ad20-1d1ab60fa73a",
   "metadata": {},
   "outputs": [],
   "source": [
    "lr_model_collection = []\n",
    "for s, selected_class in tqdm(enumerate(sampled_classes), total=len(sampled_classes)):\n",
    "    # print(s, selected_class, end=\" | \")\n",
    "    X = train_X\n",
    "    y = np.zeros(train_y.shape)\n",
    "    index_in_class = np.where(selected_class == train_y)[0]\n",
    "    y[index_in_class] = 1\n",
    "    clf = OneVsRestClassifier(LogisticRegression(random_state=0)).fit(X, y)\n",
    "    lr_model_collection.append(clf)"
   ]
  },
  {
   "cell_type": "markdown",
   "id": "de9b2f90-b024-47aa-ae19-c0095b9aeb62",
   "metadata": {},
   "source": [
    "### Grab pred_prob"
   ]
  },
  {
   "cell_type": "code",
   "execution_count": null,
   "id": "7b4609bd-3d99-4c93-b3b2-6a45c832417d",
   "metadata": {
    "tags": []
   },
   "outputs": [],
   "source": [
    "pred_prob_y_collection = []\n",
    "for count, (sampled_class, lr) in tqdm(enumerate(zip(sampled_classes, lr_model_collection)), total=len(sampled_classes)):\n",
    "    pred_prob_y = lr.predict_proba(test_X)\n",
    "    pred_prob_y_collection.append(pred_prob_y[:, 1])"
   ]
  },
  {
   "cell_type": "code",
   "execution_count": null,
   "id": "9840904f-5652-4c47-a996-66bf35ca38b6",
   "metadata": {},
   "outputs": [],
   "source": [
    "pred_prob_y_collection = np.array(pred_prob_y_collection)"
   ]
  },
  {
   "cell_type": "code",
   "execution_count": null,
   "id": "cdee4939-0209-4b2c-9b62-0cac88ea699d",
   "metadata": {},
   "outputs": [],
   "source": [
    "pred_prob_y_collection = pred_prob_y_collection.T\n",
    "pred_prob_y_collection.shape"
   ]
  },
  {
   "cell_type": "markdown",
   "id": "2b9cecf1-2466-4a96-a794-d9dc06e37652",
   "metadata": {},
   "source": [
    "### Argmax of pred_prob for generating prediction"
   ]
  },
  {
   "cell_type": "code",
   "execution_count": null,
   "id": "f8cf0fad-8d1a-4cde-ab86-d1c930fbc908",
   "metadata": {},
   "outputs": [],
   "source": [
    "prediction = sampled_classes[np.argmax(pred_prob_y_collection, axis=1)]"
   ]
  },
  {
   "cell_type": "markdown",
   "id": "c822e779-ee43-41b5-9df9-0fc5efa7d28b",
   "metadata": {},
   "source": [
    "### Compute Average Squared Distance over all the testing data"
   ]
  },
  {
   "cell_type": "code",
   "execution_count": null,
   "id": "5b5cbea0-0c59-4a61-9f36-5e89ce35e629",
   "metadata": {},
   "outputs": [],
   "source": [
    "length = dict(nx.all_pairs_shortest_path_length(T))"
   ]
  },
  {
   "cell_type": "code",
   "execution_count": null,
   "id": "29b3a40b-a39b-4a58-99cc-bf4b48efef74",
   "metadata": {},
   "outputs": [],
   "source": [
    "avg_squared_distance = 0\n",
    "for pred, gt in zip(prediction, test_y):\n",
    "    pred_loc = map_collection[str(pred)][0]\n",
    "    gt_loc = map_collection[str(gt)][0]\n",
    "    distance = length[pred_loc][gt_loc]\n",
    "    avg_squared_distance += distance ** 2\n",
    "avg_squared_distance / len(test_y)"
   ]
  },
  {
   "cell_type": "markdown",
   "id": "0fb56035-bf8b-4820-a5dc-e057d4846ffc",
   "metadata": {},
   "source": [
    "---------------------"
   ]
  },
  {
   "cell_type": "markdown",
   "id": "e3e6aa3b-858f-4b59-a6b2-ee123b038f64",
   "metadata": {},
   "source": [
    "### With Proposed Label Model"
   ]
  },
  {
   "cell_type": "code",
   "execution_count": null,
   "id": "936e3d2c-20d8-425a-9e41-09ec9e534e19",
   "metadata": {},
   "outputs": [],
   "source": [
    "def fréchet_variance(y, L, w, d):\n",
    "    v = 0\n",
    "    for i, sample_class in enumerate(L):\n",
    "        y_loc = map_collection[str(y)][0]\n",
    "        sample_class_loc = map_collection[str(sample_class)][0]\n",
    "        distance = d[y_loc][sample_class_loc]\n",
    "        v += w[i] * (distance ** 2)\n",
    "    return v\n",
    "\n",
    "def fréchet_mean(L, w, d):\n",
    "    Y = np.arange(len(full_labels)\n",
    "    return np.argmin([fréchet_variance(y, L, w, d) for y in Y])"
   ]
  },
  {
   "cell_type": "code",
   "execution_count": null,
   "id": "1c57ff43-36ac-45b4-87ba-0cc0519bba16",
   "metadata": {},
   "outputs": [],
   "source": [
    "prediction_w_label_model = []\n",
    "for p_num, (pred_prob, gt) in tqdm(enumerate(zip(pred_prob_y_collection, test_y)), total=len(test_y)):\n",
    "    argmin_y = fréchet_mean(sampled_classes, pred_prob, length)\n",
    "    prediction_w_label_model.append(argmin_y)"
   ]
  },
  {
   "cell_type": "code",
   "execution_count": null,
   "id": "35785ef4-8c7c-479e-8dca-37b69e0b8520",
   "metadata": {},
   "outputs": [],
   "source": [
    "avg_squared_distance_w_label_model = 0\n",
    "for pred, gt in zip(prediction_w_label_model, test_y):\n",
    "    pred_loc = map_collection[str(pred)][0]\n",
    "    gt_loc = map_collection[str(gt)][0]\n",
    "    distance = length[pred_loc][gt_loc]\n",
    "    avg_squared_distance_w_label_model += distance ** 2\n",
    "avg_squared_distance_w_label_model / len(test_y)"
   ]
  },
  {
   "cell_type": "code",
   "execution_count": null,
   "id": "1432db60-0c7c-4002-92a3-e50aca733f54",
   "metadata": {},
   "outputs": [],
   "source": []
  }
 ],
 "metadata": {
  "kernelspec": {
   "display_name": "simclr",
   "language": "python",
   "name": "simclr"
  },
  "language_info": {
   "codemirror_mode": {
    "name": "ipython",
    "version": 3
   },
   "file_extension": ".py",
   "mimetype": "text/x-python",
   "name": "python",
   "nbconvert_exporter": "python",
   "pygments_lexer": "ipython3",
   "version": "3.10.4"
  }
 },
 "nbformat": 4,
 "nbformat_minor": 5
}
